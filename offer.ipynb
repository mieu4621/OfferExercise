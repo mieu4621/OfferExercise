{
 "cells": [
  {
   "cell_type": "markdown",
   "metadata": {},
   "source": [
    "# **Introduction**"
   ]
  },
  {
   "cell_type": "markdown",
   "metadata": {},
   "source": [
    "**Here is the introduction about the exercise**\n",
    "\n",
    "1. Import some library\n",
    "2. Load data function\n",
    "- Input: file_path\n",
    "- Output: the data get from file (offer list get from file)\n",
    "3. Filter the offer based on the requirement\n",
    "- Input: the checkin_date, offer list\n",
    "- Output: the list of valid offer\n",
    "4. Save data\n",
    "- Input: data, file_path\n",
    "- Output: none\n",
    "- Save the data to file_path\n",
    "5. Main\n",
    "- Input the checkin date, input_file_path, output file_path\n",
    "- Load(input_file_path)\n",
    "- Filter(checkin_date, list offer in json)\n",
    "- Save(output_file_path)\n",
    "6. Run"
   ]
  },
  {
   "cell_type": "markdown",
   "metadata": {},
   "source": [
    "# **1. Import some library**"
   ]
  },
  {
   "cell_type": "code",
   "execution_count": 52,
   "metadata": {},
   "outputs": [],
   "source": [
    "import json\n",
    "from datetime import datetime, timedelta"
   ]
  },
  {
   "cell_type": "markdown",
   "metadata": {},
   "source": [
    "# **2. Load data function**"
   ]
  },
  {
   "cell_type": "code",
   "execution_count": 53,
   "metadata": {},
   "outputs": [],
   "source": [
    "# Đây là việc định nghĩa một hàm mới được gọi là load_json, nhận đối số file_path. Hàm này được thiết kế để đọc một tệp JSON từ đường dẫn đã cho.\n",
    "def load_json(file_path):\n",
    "    # Dòng này bắt đầu mở tệp ở đường dẫn đã được cung cấp trong chế độ đọc ('r'). Nó sử dụng câu lệnh with để đảm bảo rằng tài nguyên tệp sẽ được đóng tự động sau khi hoàn thành hoặc nếu có lỗi xảy ra.\n",
    "    with open(file_path, 'r') as file:\n",
    "        # Đoạn mã này sử dụng thư viện json của Python để đọc nội dung của tệp đã mở và lưu trữ nó vào biến data. Hàm json.load() được sử dụng để chuyển đổi dữ liệu JSON từ tệp thành cấu trúc dữ liệu Python.\n",
    "        data = json.load(file)\n",
    "    # Hàm load_json trả về biến data, chứa dữ liệu JSON đã được đọc từ tệp được chỉ định bởi file_path.\n",
    "    return data"
   ]
  },
  {
   "cell_type": "markdown",
   "metadata": {},
   "source": [
    "# **3. Filter the offer based on the requirement**"
   ]
  },
  {
   "cell_type": "code",
   "execution_count": 54,
   "metadata": {},
   "outputs": [],
   "source": [
    "def filter_offers(checkin_date, offers):\n",
    "    # Khởi tạo một danh sách rỗng để chứa các offer hợp lệ sau khi lọc.\n",
    "    valid_offers = []\n",
    "    \n",
    "    # Khởi tạo một từ điển để lưu trữ thông tin về các offer theo category.\n",
    "    category_dict = {}\n",
    "    \n",
    "    # Bắt đầu vòng lặp qua từng ưu đãi trong danh sách offers\n",
    "    for offer in offers:\n",
    "        # Khởi tạo danh sách rỗng để chứa các merchant hợp lệ cho mỗi offer.\n",
    "        valid_merchants = []\n",
    "\n",
    "        # Bắt đầu vòng lặp qua từng nhà merchant trong danh sách merchant của mỗi offer.\n",
    "        for merchant in offer['merchants']:\n",
    "            # Lấy khoảng cách của merchant đối với offer hiện tại.\n",
    "            merchant_distance = merchant['distance']\n",
    "            \n",
    "            # Offer needs to be valid till checkin date + 5 days. (valid_to is in YYYY-MM-DD)\n",
    "            # Chuyển đổi ngày hết hạn của ưu đãi từ chuỗi thành đối tượng datetime để so sánh\n",
    "            valid_until = datetime.strptime(offer['valid_to'], '%Y-%m-%d')\n",
    "            # Tính toán ngày hết hạn kiểm tra dựa trên ngày nhận phòng cộng thêm 5 ngày\n",
    "            valid_until_checkin = valid_until + timedelta(days=5)\n",
    "\n",
    "            # Kiểm tra xem ngày nhận phòng có nằm trong khoảng thời gian hợp lệ cho offer không ?\n",
    "            if checkin_date <= valid_until_checkin.strftime('%Y-%m-%d'):\n",
    "                # Only select offers with category that is Restaurant, Retail or Activity (1,2,4)\n",
    "                # Kiểm tra xem category của offer có thuộc loại (1, 2 hoặc 4) không ?\n",
    "                if offer['category'] in [1, 2, 4]:\n",
    "                    # Nếu merchant thỏa mãn điều kiện, thêm vào danh sách merchant hợp lệ.\n",
    "                    valid_merchants.append(merchant)\n",
    "                 \n",
    "        # Kiểm tra xem danh sách merchant hợp lệ có phần tử nào không ?   \n",
    "        if valid_merchants:\n",
    "            # If an offer is available in multiple merchants, only select the closest merchant\n",
    "            # Sắp xếp danh sách merchant hợp lệ theo khoảng cách tăng dần\n",
    "            valid_merchants = sorted(valid_merchants, key=lambda x: x['distance'])\n",
    "            # Chỉ giữ merchant gần nhất trong danh sách merchant hợp lệ cho mỗi offer\n",
    "            offer['merchants'] = [valid_merchants[0]]\n",
    "            # Both final selected offers should be in different categories. If there are multiple offers in the same category give priority to the closest merchant offer.\n",
    "            # Kiểm tra xem loại offer đã được lưu trong category_dict chưa ? Hoặc nếu có, kiểm tra xem merchant hiện tại gần với ofer hơn merchant lưu trong category_dict hơn không ?\n",
    "            if offer['category'] not in category_dict or merchant_distance < category_dict[offer['category']]['distance']:\n",
    "                # Lưu thông tin về offer và khoảng cách của merchant gần nhất vào category_dict theo category của offer\n",
    "                category_dict[offer['category']] = {'offer': offer, 'distance': merchant_distance}\n",
    "\n",
    "    # If there are multiple offers with different categories, select the closest merchant offers when selecting 2 offers\n",
    "    selected_categories = set()\n",
    "    # Bắt đầu vòng lặp qua từng thông tin về loại offer trong category_dict.\n",
    "    for category_info in category_dict.values():\n",
    "        # Kiểm tra xem đã chọn đủ 2 loại ưu đãi chưa ?\n",
    "        if len(selected_categories) < 2:\n",
    "            # Thêm loại ưu đãi vào danh sách chọn\n",
    "            selected_categories.add(category_info['offer']['category'])\n",
    "            # Thêm ưu đãi đã chọn vào danh sách ưu đãi hợp lệ cuối cùng\n",
    "            valid_offers.append(category_info['offer'])\n",
    "            \n",
    "     # This class should only return 2 offers even though there are several eligible offers\n",
    "     # Trả về danh sách chứa tối đa 2 ưu đãi hợp lệ được lựa chọn sau quá trình lọc.\n",
    "    return valid_offers[:2]"
   ]
  },
  {
   "cell_type": "markdown",
   "metadata": {},
   "source": [
    "# **4. Save data**"
   ]
  },
  {
   "cell_type": "code",
   "execution_count": 55,
   "metadata": {},
   "outputs": [],
   "source": [
    "# Đây là việc định nghĩa một hàm mới có tên là save_json. Hàm này nhận hai đối số: file_path, đường dẫn đến tệp mà bạn muốn lưu dữ liệu JSON vào và data, dữ liệu cần lưu thành tệp JSON.\n",
    "def save_json(file_path, data):\n",
    "    # Dòng này mở tệp ở đường dẫn file_path trong chế độ ghi ('w'). Câu lệnh with đảm bảo rằng tệp sẽ được đóng tự động sau khi hoàn thành hoặc khi có lỗi xảy ra.\n",
    "    with open(file_path, 'w') as file:\n",
    "        # Đoạn mã này sử dụng hàm json.dump() để ghi dữ liệu JSON từ biến data vào tệp đã mở (file). Tham số indent=2 được sử dụng để thêm các khoảng trắng và thụt lề cho dễ đọc. Hàm này chuyển đổi cấu trúc dữ liệu Python trong data thành định dạng JSON và ghi nó vào tệp.\n",
    "        json.dump(data, file, indent=2)"
   ]
  },
  {
   "cell_type": "markdown",
   "metadata": {},
   "source": [
    "# **5. Main**"
   ]
  },
  {
   "cell_type": "code",
   "execution_count": 56,
   "metadata": {},
   "outputs": [],
   "source": [
    "def main():\n",
    "    # Dòng này yêu cầu người dùng nhập ngày check-in thông qua hàm input() và lưu giá trị được nhập vào biến checkin_date.\n",
    "    checkin_date = input(\"Enter the check-in date (YYYY-MM-DD): \")\n",
    "    # Yêu cầu người dùng nhập đường dẫn đến tệp input và lưu giá trị đó vào biến input_file_path\n",
    "    input_file_path = input(\"Enter the input file path: \")\n",
    "    \n",
    "    # Sử dụng hàm load_json() (có thể đã được định nghĩa trước đó) để đọc dữ liệu từ tệp JSON tại đường dẫn đã nhập và lưu vào biến data.\n",
    "    data = load_json(input_file_path)\n",
    "    \n",
    "    # Sử dụng hàm filter_offers() (có thể đã được định nghĩa ở một nơi khác) để lọc các offer từ dữ liệu đã đọc với điều kiện là ngày check-in phù hợp. Kết quả được lưu vào filtered_offers.\n",
    "    filtered_offers = filter_offers(checkin_date, data['offers'])\n",
    "\n",
    "    # Yêu cầu người dùng nhập đường dẫn đến tệp output và lưu giá trị đó vào output_file_path\n",
    "    output_file_path = input(\"Enter the output file path: \")\n",
    "    \n",
    "    # Sử dụng hàm save_json() để lưu các offer đã được lọc vào một tệp JSON mới tại đường dẫn đã nhập.\n",
    "    save_json(output_file_path, {'offers': filtered_offers})\n",
    "    \n",
    "    # In thông báo xác nhận rằng các ofer đã được lọc đã được lưu vào tệp tại đường dẫn output_file_path\n",
    "    print(f\"\\nFiltered offers saved to {output_file_path}\")"
   ]
  },
  {
   "cell_type": "markdown",
   "metadata": {},
   "source": [
    "# **6. Run**"
   ]
  },
  {
   "cell_type": "code",
   "execution_count": 57,
   "metadata": {},
   "outputs": [
    {
     "name": "stdout",
     "output_type": "stream",
     "text": [
      "\n",
      "Filtered offers saved to output.json\n"
     ]
    }
   ],
   "source": [
    "# Run the function\n",
    "main()"
   ]
  }
 ],
 "metadata": {
  "kernelspec": {
   "display_name": "Python 3",
   "language": "python",
   "name": "python3"
  },
  "language_info": {
   "codemirror_mode": {
    "name": "ipython",
    "version": 3
   },
   "file_extension": ".py",
   "mimetype": "text/x-python",
   "name": "python",
   "nbconvert_exporter": "python",
   "pygments_lexer": "ipython3",
   "version": "3.10.8"
  }
 },
 "nbformat": 4,
 "nbformat_minor": 2
}
