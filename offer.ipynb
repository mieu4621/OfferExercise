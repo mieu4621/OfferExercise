{
 "cells": [
  {
   "cell_type": "markdown",
   "metadata": {},
   "source": [
    "# **Introduction**"
   ]
  },
  {
   "cell_type": "markdown",
   "metadata": {},
   "source": [
    "**Here is the introduction about the exercise**\n",
    "\n",
    "1. Import some library\n",
    "2. Load data function\n",
    "- Input: file_path\n",
    "- Output: the data get from file (offer list get from file)\n",
    "3. Filter the offer based on the requirement\n",
    "- Input: the checkin_date, offer list\n",
    "- Output: the list of valid offer\n",
    "4. Save data\n",
    "- Input: data, file_path\n",
    "- Output: none\n",
    "- Save the data to file_path\n",
    "5. Main\n",
    "- Input the checkin date, input_file_path, output file_path\n",
    "- Load(input_file_path)\n",
    "- Filter(checkin_date, list offer in json)\n",
    "- Save(output_file_path)\n",
    "6. Run"
   ]
  },
  {
   "cell_type": "markdown",
   "metadata": {},
   "source": [
    "# **1. Import some library**"
   ]
  },
  {
   "cell_type": "code",
   "execution_count": 16,
   "metadata": {},
   "outputs": [],
   "source": [
    "import json\n",
    "from datetime import datetime, timedelta"
   ]
  },
  {
   "cell_type": "markdown",
   "metadata": {},
   "source": [
    "# **2. Load data function**"
   ]
  },
  {
   "cell_type": "code",
   "execution_count": 17,
   "metadata": {},
   "outputs": [],
   "source": [
    "def load_json(file_path):\n",
    "    with open(file_path, 'r') as file:\n",
    "        data = json.load(file)\n",
    "    return data"
   ]
  },
  {
   "cell_type": "markdown",
   "metadata": {},
   "source": [
    "# **3. Filter the offer based on the requirement**"
   ]
  },
  {
   "cell_type": "code",
   "execution_count": 18,
   "metadata": {},
   "outputs": [],
   "source": [
    "def filter_offers(checkin_date, offers):\n",
    "    valid_offers = []\n",
    "    \n",
    "    for offer in offers:\n",
    "        valid_merchants = []\n",
    "\n",
    "        for merchant in offer['merchants']:\n",
    "            merchant_distance = merchant['distance']\n",
    "            \n",
    "            # Offer needs to be valid till checkin date + 5 days. (valid_to is in YYYY-MM-DD)\n",
    "            valid_until = datetime.strptime(offer['valid_to'], '%Y-%m-%d')\n",
    "            valid_until_checkin = valid_until + timedelta(days=5)\n",
    "\n",
    "            if checkin_date <= valid_until_checkin.strftime('%Y-%m-%d'):\n",
    "                # Only select offers with category that is Restaurant, Retail or Activity (1,2,4)\n",
    "                if offer['category'] in [1, 2, 4]:\n",
    "                    valid_merchants.append(merchant)\n",
    "                    \n",
    "        if valid_merchants:\n",
    "            # If an offer is available in multiple merchants, only select the closest merchant\n",
    "            valid_merchants = sorted(valid_merchants, key=lambda x: x['distance'])\n",
    "            offer['merchants'] = [valid_merchants[0]]\n",
    "            valid_offers.append(offer)\n",
    "            \n",
    "    return valid_offers"
   ]
  },
  {
   "cell_type": "markdown",
   "metadata": {},
   "source": [
    "# **4. Save data**"
   ]
  },
  {
   "cell_type": "code",
   "execution_count": 19,
   "metadata": {},
   "outputs": [],
   "source": [
    "def save_json(file_path, data):\n",
    "    with open(file_path, 'w') as file:\n",
    "        json.dump(data, file, indent=2)"
   ]
  },
  {
   "cell_type": "markdown",
   "metadata": {},
   "source": [
    "# **5. Main**"
   ]
  },
  {
   "cell_type": "code",
   "execution_count": 20,
   "metadata": {},
   "outputs": [],
   "source": [
    "def main():\n",
    "    checkin_date = input(\"Enter the check-in date (YYYY-MM-DD): \")\n",
    "    input_file_path = input(\"Enter the input file path: \")\n",
    "\n",
    "    data = load_json(input_file_path)\n",
    "    filtered_offers = filter_offers(checkin_date, data['offers'])\n",
    "\n",
    "    output_file_path = input(\"Enter the output file path: \")\n",
    "    save_json(output_file_path, {'offers': filtered_offers})\n",
    "    print(f\"\\nFiltered offers saved to {output_file_path}\")"
   ]
  },
  {
   "cell_type": "markdown",
   "metadata": {},
   "source": [
    "# **6. Run**"
   ]
  },
  {
   "cell_type": "code",
   "execution_count": 21,
   "metadata": {},
   "outputs": [
    {
     "name": "stdout",
     "output_type": "stream",
     "text": [
      "\n",
      "Filtered offers saved to output.json\n"
     ]
    }
   ],
   "source": [
    "# Run the function\n",
    "main()"
   ]
  }
 ],
 "metadata": {
  "kernelspec": {
   "display_name": "Python 3",
   "language": "python",
   "name": "python3"
  },
  "language_info": {
   "codemirror_mode": {
    "name": "ipython",
    "version": 3
   },
   "file_extension": ".py",
   "mimetype": "text/x-python",
   "name": "python",
   "nbconvert_exporter": "python",
   "pygments_lexer": "ipython3",
   "version": "3.10.8"
  }
 },
 "nbformat": 4,
 "nbformat_minor": 2
}
